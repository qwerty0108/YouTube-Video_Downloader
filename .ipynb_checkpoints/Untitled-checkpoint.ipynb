{
 "cells": [
  {
   "cell_type": "code",
   "execution_count": 3,
   "id": "07b03012",
   "metadata": {},
   "outputs": [],
   "source": [
    "from pytube import YouTube"
   ]
  },
  {
   "cell_type": "code",
   "execution_count": 9,
   "id": "e1058f85",
   "metadata": {},
   "outputs": [],
   "source": [
    "link = \"\"\n",
    "yt = YouTube(\"https://www.youtube.com/watch?v=qq5dKaRMsGw&list=PLFr_jkwUp0hjr2TcD5fOCqhPpPw78k0_t\")"
   ]
  },
  {
   "cell_type": "code",
   "execution_count": 26,
   "id": "7de6b43b",
   "metadata": {},
   "outputs": [],
   "source": [
    "# print(yt.streams.filter(progressive=True).get_highest_resolution())\n",
    "# print(yt.streams.filter(progressive=True, res=\"720p\"))\n",
    "ys = yt.streams.filter(progressive=True, res=\"720p\")"
   ]
  },
  {
   "cell_type": "code",
   "execution_count": null,
   "id": "ac7c3f47",
   "metadata": {},
   "outputs": [],
   "source": []
  }
 ],
 "metadata": {
  "kernelspec": {
   "display_name": "Python 3 (ipykernel)",
   "language": "python",
   "name": "python3"
  },
  "language_info": {
   "codemirror_mode": {
    "name": "ipython",
    "version": 3
   },
   "file_extension": ".py",
   "mimetype": "text/x-python",
   "name": "python",
   "nbconvert_exporter": "python",
   "pygments_lexer": "ipython3",
   "version": "3.9.7"
  }
 },
 "nbformat": 4,
 "nbformat_minor": 5
}
